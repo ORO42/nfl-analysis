{
 "cells": [
  {
   "cell_type": "code",
   "execution_count": 2,
   "id": "c4f3e411",
   "metadata": {},
   "outputs": [
    {
     "name": "stderr",
     "output_type": "stream",
     "text": [
      "/var/folders/q5/ndxjp9156hqctcf2kg6b6lvw0000gn/T/ipykernel_65429/4080736814.py:1: DeprecationWarning: \n",
      "Pyarrow will become a required dependency of pandas in the next major release of pandas (pandas 3.0),\n",
      "(to allow more performant data types, such as the Arrow string type, and better interoperability with other libraries)\n",
      "but was not found to be installed on your system.\n",
      "If this would cause problems for you,\n",
      "please provide us feedback at https://github.com/pandas-dev/pandas/issues/54466\n",
      "        \n",
      "  import pandas as pd\n"
     ]
    }
   ],
   "source": [
    "import pandas as pd"
   ]
  },
  {
   "cell_type": "markdown",
   "id": "2a28faf3",
   "metadata": {},
   "source": [
    "# Perform exploratory statistical analysis on NFL betting odds data\n",
    "All hypotheses apply to the date range 2012 to 2021."
   ]
  },
  {
   "cell_type": "code",
   "execution_count": 39,
   "id": "914e3ce2",
   "metadata": {},
   "outputs": [],
   "source": [
    "csv_data = pd.read_csv('nfl_odds_data.csv')\n",
    "\n",
    "# drop rows where game was a spread tie\n",
    "csv_data = csv_data[csv_data['spread_tie'] != True]\n",
    "csv_data = csv_data[csv_data['spread'] != 'PK']"
   ]
  },
  {
   "cell_type": "code",
   "execution_count": 43,
   "id": "48ee0e41",
   "metadata": {},
   "outputs": [
    {
     "name": "stdout",
     "output_type": "stream",
     "text": [
      "Spread: -8.5, Odds Underdog: 0.5185185185185185, Occurrences Underdog: 14, Odds Favorite: 0.48148148148148145, Occurrences Favorite: 13\n",
      "Spread: -3.5, Odds Underdog: 0.5541666666666667, Occurrences Underdog: 133, Odds Favorite: 0.44583333333333336, Occurrences Favorite: 107\n",
      "Spread: -6.5, Odds Underdog: 0.4852941176470588, Occurrences Underdog: 66, Odds Favorite: 0.5147058823529411, Occurrences Favorite: 70\n",
      "Spread: -4.0, Odds Underdog: 0.5555555555555556, Occurrences Underdog: 60, Odds Favorite: 0.4444444444444444, Occurrences Favorite: 48\n",
      "Spread: -9.0, Odds Underdog: 0.6363636363636364, Occurrences Underdog: 21, Odds Favorite: 0.36363636363636365, Occurrences Favorite: 12\n",
      "Spread: -3.0, Odds Underdog: 0.49696969696969695, Occurrences Underdog: 164, Odds Favorite: 0.503030303030303, Occurrences Favorite: 166\n",
      "Spread: -1.5, Odds Underdog: 0.4945054945054945, Occurrences Underdog: 45, Odds Favorite: 0.5054945054945055, Occurrences Favorite: 46\n",
      "Spread: -5.5, Odds Underdog: 0.4854368932038835, Occurrences Underdog: 50, Odds Favorite: 0.5145631067961165, Occurrences Favorite: 53\n",
      "Spread: -8.0, Odds Underdog: 0.47058823529411764, Occurrences Underdog: 16, Odds Favorite: 0.5294117647058824, Occurrences Favorite: 18\n",
      "Spread: -13.5, Odds Underdog: 0.65625, Occurrences Underdog: 21, Odds Favorite: 0.34375, Occurrences Favorite: 11\n",
      "Spread: -6.0, Odds Underdog: 0.5175438596491229, Occurrences Underdog: 59, Odds Favorite: 0.4824561403508772, Occurrences Favorite: 55\n",
      "Spread: -11.5, Odds Underdog: 0.5, Occurrences Underdog: 9, Odds Favorite: 0.5, Occurrences Favorite: 9\n",
      "Spread: -7.0, Odds Underdog: 0.47530864197530864, Occurrences Underdog: 77, Odds Favorite: 0.5246913580246914, Occurrences Favorite: 85\n",
      "Spread: -7.5, Odds Underdog: 0.49624060150375937, Occurrences Underdog: 66, Odds Favorite: 0.5037593984962406, Occurrences Favorite: 67\n",
      "Spread: -10.0, Odds Underdog: 0.5645161290322581, Occurrences Underdog: 35, Odds Favorite: 0.43548387096774194, Occurrences Favorite: 27\n",
      "Spread: -2.0, Odds Underdog: 0.4857142857142857, Occurrences Underdog: 34, Odds Favorite: 0.5142857142857142, Occurrences Favorite: 36\n",
      "Spread: -2.5, Odds Underdog: 0.5048076923076923, Occurrences Underdog: 105, Odds Favorite: 0.4951923076923077, Occurrences Favorite: 103\n",
      "Spread: -1.0, Odds Underdog: 0.4966887417218543, Occurrences Underdog: 75, Odds Favorite: 0.5033112582781457, Occurrences Favorite: 76\n",
      "Spread: -4.5, Odds Underdog: 0.5056179775280899, Occurrences Underdog: 45, Odds Favorite: 0.4943820224719101, Occurrences Favorite: 44\n",
      "Spread: -5.0, Odds Underdog: 0.5, Occurrences Underdog: 34, Odds Favorite: 0.5, Occurrences Favorite: 34\n",
      "Spread: -16.5, Odds Underdog: 0.6363636363636364, Occurrences Underdog: 7, Odds Favorite: 0.36363636363636365, Occurrences Favorite: 4\n",
      "Spread: -14.0, Odds Underdog: 0.5, Occurrences Underdog: 9, Odds Favorite: 0.5, Occurrences Favorite: 9\n",
      "Spread: -11.0, Odds Underdog: 0.2962962962962963, Occurrences Underdog: 8, Odds Favorite: 0.7037037037037037, Occurrences Favorite: 19\n",
      "Spread: -10.5, Odds Underdog: 0.5254237288135594, Occurrences Underdog: 31, Odds Favorite: 0.4745762711864407, Occurrences Favorite: 28\n",
      "Spread: -14.5, Odds Underdog: 0.5714285714285714, Occurrences Underdog: 8, Odds Favorite: 0.42857142857142855, Occurrences Favorite: 6\n",
      "Spread: -13.0, Odds Underdog: 0.5, Occurrences Underdog: 9, Odds Favorite: 0.5, Occurrences Favorite: 9\n",
      "Spread: -9.5, Odds Underdog: 0.5102040816326531, Occurrences Underdog: 25, Odds Favorite: 0.4897959183673469, Occurrences Favorite: 24\n"
     ]
    }
   ],
   "source": [
    "def best_spreads(csv_data):\n",
    "    # Get unique spread values\n",
    "    unique_spreads = csv_data['spread'].unique()\n",
    "\n",
    "    # Initialize a list to store spread, odds, and occurrences tuples\n",
    "    spread_odds_occurrences_list = []\n",
    "\n",
    "    # Iterate over sorted spread values\n",
    "    for specific_spread in unique_spreads:\n",
    "        # Filter rows based on the specific spread\n",
    "        filtered_rows = csv_data[csv_data['spread'] == specific_spread]\n",
    "        \n",
    "        # Calculate the odds that 'underdog' equals 'teamCovered'\n",
    "        total_rows = len(filtered_rows)\n",
    "        matching_underdog_rows = len(filtered_rows[filtered_rows['underdog'] == filtered_rows['team_covered']])\n",
    "        \n",
    "        if total_rows > 0:\n",
    "            odds_underdog = matching_underdog_rows / total_rows\n",
    "        else:\n",
    "            odds_underdog = 0\n",
    "\n",
    "        # Calculate the occurrences for 'underdog' equals 'teamCovered'\n",
    "        occurrences_underdog = matching_underdog_rows\n",
    "\n",
    "        # Calculate the odds that 'favorite' equals 'teamCovered'\n",
    "        matching_favorite_rows = len(filtered_rows[filtered_rows['favorite'] == filtered_rows['team_covered']])\n",
    "        \n",
    "        if total_rows > 0:\n",
    "            odds_favorite = matching_favorite_rows / total_rows\n",
    "        else:\n",
    "            odds_favorite = 0\n",
    "\n",
    "        # Calculate the occurrences for 'favorite' equals 'teamCovered'\n",
    "        occurrences_favorite = matching_favorite_rows\n",
    "\n",
    "        # Append spread, odds, and occurrences tuples to the list\n",
    "        if occurrences_favorite and occurrences_underdog > 4:\n",
    "            spread_odds_occurrences_list.append((specific_spread, odds_underdog, occurrences_underdog, odds_favorite, occurrences_favorite))\n",
    "\n",
    "    # Print the results\n",
    "    for spread, odds_underdog, occurrences_underdog, odds_favorite, occurrences_favorite in spread_odds_occurrences_list:\n",
    "        print(f\"Spread: {spread}, Odds Underdog: {odds_underdog}, Occurrences Underdog: {occurrences_underdog}, Odds Favorite: {odds_favorite}, Occurrences Favorite: {occurrences_favorite}\")\n",
    "\n",
    "best_spreads(csv_data)"
   ]
  },
  {
   "cell_type": "code",
   "execution_count": 4,
   "id": "9a4a36cb",
   "metadata": {},
   "outputs": [
    {
     "name": "stdout",
     "output_type": "stream",
     "text": [
      "                        Team  Underdog Count  Covered Spread Count\n",
      "0       Tampa Bay Buccaneers              87                    76\n",
      "1            Atlanta Falcons              72                    70\n",
      "2              Buffalo Bills              83                    82\n",
      "3          Carolina Panthers              77                    76\n",
      "4        San Francisco 49ers              80                    74\n",
      "5       Jacksonville Jaguars             119                    63\n",
      "6           Seattle Seahawks              42                    85\n",
      "7           Tennessee Titans              82                    65\n",
      "8   Washington Football Team              25                    15\n",
      "9         Kansas City Chiefs              41                    80\n",
      "10      New England Patriots              24                    89\n",
      "11         Green Bay Packers              43                    86\n",
      "12            Denver Broncos              67                    82\n",
      "13          Los Angeles Rams              23                    46\n",
      "14          Baltimore Ravens              51                    76\n",
      "15        New Orleans Saints              53                    88\n",
      "16             Chicago Bears              97                    68\n",
      "17          Cleveland Browns             101                    61\n",
      "18       Pittsburgh Steelers              52                    83\n",
      "19         Arizona Cardinals              82                    81\n",
      "20         Las Vegas Raiders              19                    15\n",
      "21            Dallas Cowboys              62                    82\n",
      "22        Cincinnati Bengals              80                    85\n",
      "23            Miami Dolphins             103                    77\n",
      "24      Los Angeles Chargers              27                    37\n",
      "25         Minnesota Vikings              74                    90\n",
      "26        Indianapolis Colts              69                    83\n",
      "27       Philadelphia Eagles              64                    70\n",
      "28            Houston Texans              86                    69\n",
      "29                        PK               0                    11\n",
      "30             New York Jets             112                    69\n",
      "31             Detroit Lions              97                    74\n",
      "32           New York Giants             100                    71\n",
      "33       Washington Redskins              88                    59\n",
      "34           Oakland Raiders              92                    58\n",
      "35        San Diego Chargers              44                    36\n",
      "36             St Louis Rams              46                    32\n"
     ]
    }
   ],
   "source": [
    "def team_stats_analysis(csv_data):\n",
    "    # create DataFrame with unique teams\n",
    "    teams = pd.concat([csv_data['favorite'], csv_data['underdog'], csv_data['team_covered']]).unique()\n",
    "    team_stats = pd.DataFrame({'Team': teams, 'Underdog Count': 0, 'Covered Spread Count': 0})\n",
    "    \n",
    "    # underdog count for each underdog team\n",
    "    team_stats['Underdog Count'] = csv_data.groupby('underdog').size().reindex(teams, fill_value=0).values\n",
    "    \n",
    "    # covered spread count for each team that covered\n",
    "    team_stats['Covered Spread Count'] = csv_data.groupby('team_covered').size().reindex(teams, fill_value=0).values\n",
    "    \n",
    "    return team_stats\n",
    "print(team_stats_analysis(csv_data))"
   ]
  },
  {
   "cell_type": "code",
   "execution_count": 6,
   "id": "ff4ef657",
   "metadata": {},
   "outputs": [
    {
     "name": "stdout",
     "output_type": "stream",
     "text": [
      "season\n",
      "2012    51.428571\n",
      "2013    47.325103\n",
      "2014    50.406504\n",
      "2015    51.428571\n",
      "2016    48.163265\n",
      "2017    44.855967\n",
      "2018    52.479339\n",
      "2019    53.688525\n",
      "2020    54.400000\n",
      "2021    50.191571\n",
      "Name: Underdog Covered, dtype: float64\n"
     ]
    }
   ],
   "source": [
    "def underdog_coverage_percentage_per_season(csv_data):\n",
    "    # DataFrame with the underdog and whether it covered the spread for each game\n",
    "    underdog_coverage_df = csv_data[['season', 'underdog', 'team_covered']].copy()\n",
    "\n",
    "    # binary column indicating whether underdog covered spread\n",
    "    underdog_coverage_df['Underdog Covered'] = (underdog_coverage_df['team_covered'] == underdog_coverage_df['underdog'])\n",
    "\n",
    "    # underdog coverage percentage for each season\n",
    "    result = underdog_coverage_df.groupby('season')['Underdog Covered'].mean() * 100\n",
    "\n",
    "    return result\n",
    "print(underdog_coverage_percentage_per_season(csv_data))"
   ]
  },
  {
   "cell_type": "markdown",
   "id": "5e75db14",
   "metadata": {},
   "source": [
    "##### Hypothesis\n",
    "Betting only the underdog on every game, every season, would have yielded net positive returns\n",
    "##### Conclusion\n",
    "False. Would have been up 0.44%, but after betting fees (typically at least 3%), would have lost money"
   ]
  },
  {
   "cell_type": "code",
   "execution_count": 5,
   "id": "79c98a99",
   "metadata": {},
   "outputs": [
    {
     "name": "stdout",
     "output_type": "stream",
     "text": [
      "50.44642857142857\n"
     ]
    }
   ],
   "source": [
    "def underdog_coverage_percentage(csv_data):\n",
    "    total_games = len(csv_data)\n",
    "    underdog_covered_games = len(csv_data[csv_data['team_covered'] == csv_data['underdog']])\n",
    "\n",
    "    # percentage of games where underdog covers\n",
    "    underdog_coverage_percent = (underdog_covered_games / total_games) * 100\n",
    "    return underdog_coverage_percent\n",
    "print(underdog_coverage_percentage(csv_data))"
   ]
  },
  {
   "cell_type": "markdown",
   "id": "347646c7",
   "metadata": {},
   "source": [
    "Any team has never been on a > 13 cover or failure to cover streak, so having observed a streak of 13, bet on the next outcome for that team to be opposite of the last outcome"
   ]
  },
  {
   "cell_type": "code",
   "execution_count": 7,
   "id": "88747307",
   "metadata": {},
   "outputs": [
    {
     "name": "stdout",
     "output_type": "stream",
     "text": [
      "                        Team  Max_Win_Streak  Max_Loss_Streak\n",
      "0             Dallas Cowboys               9               11\n",
      "1        Philadelphia Eagles               8                8\n",
      "2        Pittsburgh Steelers               6                6\n",
      "3          Carolina Panthers              10                8\n",
      "4              Detroit Lions               9                6\n",
      "5             Houston Texans               8                6\n",
      "6           Seattle Seahawks               5               11\n",
      "7          Arizona Cardinals               7                9\n",
      "8       Los Angeles Chargers               7                5\n",
      "9           Cleveland Browns               9                5\n",
      "10            Miami Dolphins               7                6\n",
      "11        New Orleans Saints               6               10\n",
      "12            Denver Broncos               9                6\n",
      "13          Los Angeles Rams               8                5\n",
      "14         Las Vegas Raiders               5                5\n",
      "15           New York Giants               8                5\n",
      "16             Chicago Bears               7                6\n",
      "17        Indianapolis Colts               7                9\n",
      "18             Buffalo Bills               6               11\n",
      "19      New England Patriots               5                9\n",
      "20       San Francisco 49ers               8                6\n",
      "21         Minnesota Vikings               8                9\n",
      "22      Tampa Bay Buccaneers               8                7\n",
      "23          Tennessee Titans               7                5\n",
      "24          Baltimore Ravens               6                8\n",
      "25         Green Bay Packers               6                9\n",
      "26        Cincinnati Bengals               5               10\n",
      "27      Jacksonville Jaguars               9                5\n",
      "28  Washington Football Team               5                6\n",
      "29             New York Jets               8                7\n",
      "30        Kansas City Chiefs               6               13\n",
      "31           Atlanta Falcons              10                6\n",
      "32                        PK               3                5\n",
      "33       Washington Redskins               7                8\n",
      "34           Oakland Raiders               7                5\n",
      "35        San Diego Chargers               6               10\n",
      "36             St Louis Rams               8                5\n"
     ]
    }
   ],
   "source": [
    "def max_win_loss_streaks(csv_data):\n",
    "    # find every unique team who covered\n",
    "    unique_teams = csv_data.team_covered.unique()\n",
    "    \n",
    "    # will contain combined team DataFrames at the end\n",
    "    final_df = pd.DataFrame()\n",
    "\n",
    "    for team in unique_teams:\n",
    "        \n",
    "        # get all rows where team played a game\n",
    "        where_played = csv_data[(csv_data['straight_winner'] == team) | (csv_data['straight_loser'] == team)]\n",
    "        \n",
    "        # Check 'straight_winner' | 'straight_loser' == team & 'team_covered' == team\n",
    "        condition = ((where_played['straight_winner'] == team) | (where_played['straight_loser'] == team)) & (where_played['team_covered'] == team)\n",
    "        false_condition = ~condition\n",
    "        \n",
    "        # find largest streak of consecutive true\n",
    "        win_streak_lengths = condition.groupby(condition.cumsum()).cumcount() + 1\n",
    "        win_max_streak = win_streak_lengths.max()\n",
    "        \n",
    "        # find largest streak of consecutive false\n",
    "        loss_streak_lengths = false_condition.groupby(false_condition.cumsum()).cumcount() + 1\n",
    "        loss_max_streak = loss_streak_lengths.max()\n",
    "        \n",
    "        # create temp DataFrame to store the results\n",
    "        result_df = pd.DataFrame({\n",
    "            'Team': [team],\n",
    "            'Max_Win_Streak': [win_max_streak],\n",
    "            'Max_Loss_Streak': [loss_max_streak]\n",
    "        })\n",
    "        \n",
    "        # concatenate result_df with final_df\n",
    "        final_df = pd.concat([final_df, result_df], ignore_index=True)\n",
    "    \n",
    "    return final_df\n",
    "        \n",
    "\n",
    "print(max_win_loss_streaks(csv_data))"
   ]
  },
  {
   "cell_type": "code",
   "execution_count": 60,
   "id": "448926db",
   "metadata": {},
   "outputs": [
    {
     "name": "stdout",
     "output_type": "stream",
     "text": [
      "35.198040016333195\n",
      "61.331155573703555\n"
     ]
    }
   ],
   "source": [
    "def who_covers(csv_data, team_type, cover_type):\n",
    "    # count total number of games and number of covers based on team_type and cover_type\n",
    "    total_games = len(csv_data)\n",
    "    covers = csv_data[\n",
    "        (csv_data[cover_type] == csv_data['at']) & (csv_data['team_covered'] == csv_data[cover_type])\n",
    "    ].shape[0]\n",
    "\n",
    "    # handle division by zero\n",
    "    if total_games == 0:\n",
    "        return 0.0\n",
    "\n",
    "    # calculate percentage\n",
    "    percentage = (covers / total_games) * 100\n",
    "    return percentage * 2\n",
    "\n",
    "print(who_covers(csv_data, 'home', 'underdog'))\n",
    "print(who_covers(csv_data, 'home', 'favorite'))\n"
   ]
  },
  {
   "cell_type": "markdown",
   "id": "7b0bac76",
   "metadata": {},
   "source": [
    "If the underdog or favorite has the same outcome 10 times in a row, bet on the next outcome to be opposite of the last outcome"
   ]
  },
  {
   "cell_type": "code",
   "execution_count": 12,
   "id": "a7922953",
   "metadata": {},
   "outputs": [
    {
     "name": "stdout",
     "output_type": "stream",
     "text": [
      "Max underdog cover streak: 10\n",
      "Max favorite cover streak: 9\n"
     ]
    }
   ],
   "source": [
    "def under_favorite_win_loss_streaks(csv_data):\n",
    "    \n",
    "        # check 'straight_winner' | 'straight_loser' == team & 'team_covered' == team\n",
    "        condition = (csv_data['underdog'] == csv_data['team_covered'])\n",
    "        false_condition = ~condition\n",
    "        \n",
    "        # find largest streak of consecutive true\n",
    "        underdog_covered_streak_lengths = condition.groupby(condition.cumsum()).cumcount() + 1\n",
    "        underdog_covered_max_streak = underdog_covered_streak_lengths.max()\n",
    "        \n",
    "        # find largest streak of consecutive false\n",
    "        favorite_covered_streak_lengths = false_condition.groupby(false_condition.cumsum()).cumcount() + 1\n",
    "        favorite_covered_max_streak = favorite_covered_streak_lengths.max()\n",
    "    \n",
    "        print(f\"Max underdog cover streak: {underdog_covered_max_streak}\\nMax favorite cover streak: {favorite_covered_max_streak}\")\n",
    "        \n",
    "under_favorite_win_loss_streaks(csv_data)"
   ]
  }
 ],
 "metadata": {
  "kernelspec": {
   "display_name": "Python 3 (ipykernel)",
   "language": "python",
   "name": "python3"
  },
  "language_info": {
   "codemirror_mode": {
    "name": "ipython",
    "version": 3
   },
   "file_extension": ".py",
   "mimetype": "text/x-python",
   "name": "python",
   "nbconvert_exporter": "python",
   "pygments_lexer": "ipython3",
   "version": "3.11.5"
  }
 },
 "nbformat": 4,
 "nbformat_minor": 5
}
